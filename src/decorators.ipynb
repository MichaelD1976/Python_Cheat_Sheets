{
 "cells": [
  {
   "cell_type": "markdown",
   "id": "123b45fd",
   "metadata": {},
   "source": [
    "#### 🌀 Python Decorators Cheat Sheet"
   ]
  },
  {
   "cell_type": "markdown",
   "id": "a20fa6d4",
   "metadata": {},
   "source": [
    "## 1️⃣ What is a Decorator?\n",
    "- A **decorator** is a function that **modifies another function**.\n",
    "- Often used for logging, timing, authentication, etc.\n",
    "- Syntax: `@decorator_name` above a function definition.\n",
    "\n",
    "---\n",
    "\n",
    "## 2️⃣ Basic Decorator Example\n",
    "```python\n",
    "def decorator(func):\n",
    "    def wrapper():\n",
    "        print(\"Before function\")\n",
    "        func()\n",
    "        print(\"After function\")\n",
    "    return wrapper\n",
    "\n",
    "@decorator\n",
    "def say_hello():\n",
    "    print(\"Hello!\")\n",
    "\n",
    "say_hello()\n",
    "# Output:\n",
    "# Before function\n",
    "# Hello!\n",
    "# After function"
   ]
  },
  {
   "cell_type": "markdown",
   "id": "8f8269fa",
   "metadata": {},
   "source": [
    "3️⃣ Decorator Without @ Syntax\n",
    "```Python\n",
    "def greet():\n",
    "    print(\"Hello!\")\n",
    "\n",
    "decorated_greet = decorator(greet)\n",
    "decorated_greet()"
   ]
  },
  {
   "cell_type": "markdown",
   "id": "ba771291",
   "metadata": {},
   "source": [
    "4️⃣ Decorator with Arguments\n",
    "```Python\n",
    "def decorator(func):\n",
    "    def wrapper(*args, **kwargs):\n",
    "        print(\"Before function\")\n",
    "        result = func(*args, **kwargs)\n",
    "        print(\"After function\")\n",
    "        return result\n",
    "    return wrapper\n",
    "\n",
    "@decorator\n",
    "def add(a, b):\n",
    "    return a + b\n",
    "\n",
    "print(add(3, 5))\n",
    "# Output:\n",
    "# Before function\n",
    "# After function\n",
    "# 8"
   ]
  },
  {
   "cell_type": "markdown",
   "id": "535a66d5",
   "metadata": {},
   "source": [
    "5️⃣ Multiple Decorators\n",
    "```Python\n",
    "def deco1(func):\n",
    "    def wrapper():\n",
    "        print(\"deco1 before\")\n",
    "        func()\n",
    "        print(\"deco1 after\")\n",
    "    return wrapper\n",
    "\n",
    "def deco2(func):\n",
    "    def wrapper():\n",
    "        print(\"deco2 before\")\n",
    "        func()\n",
    "        print(\"deco2 after\")\n",
    "    return wrapper\n",
    "\n",
    "@deco1\n",
    "@deco2\n",
    "def greet():\n",
    "    print(\"Hello!\")\n",
    "\n",
    "greet()\n",
    "# Output:\n",
    "# deco1 before\n",
    "# deco2 before\n",
    "# Hello!\n",
    "# deco2 after\n",
    "# deco1 after"
   ]
  },
  {
   "cell_type": "markdown",
   "id": "1b0403a3",
   "metadata": {},
   "source": [
    "6️⃣ Using functools.wraps\n",
    "```Python\n",
    "\n",
    "Preserves original function’s name and docstring.\n",
    "\n",
    "from functools import wraps\n",
    "\n",
    "def decorator(func):\n",
    "    @wraps(func)\n",
    "    def wrapper(*args, **kwargs):\n",
    "        print(\"Before function\")\n",
    "        return func(*args, **kwargs)\n",
    "    return wrapper"
   ]
  },
  {
   "cell_type": "markdown",
   "id": "6dae7db2",
   "metadata": {},
   "source": []
  }
 ],
 "metadata": {
  "language_info": {
   "name": "python"
  }
 },
 "nbformat": 4,
 "nbformat_minor": 5
}
