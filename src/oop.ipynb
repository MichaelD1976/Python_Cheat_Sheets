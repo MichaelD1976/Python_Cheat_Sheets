{
 "cells": [
  {
   "cell_type": "markdown",
   "id": "3900c02d",
   "metadata": {},
   "source": [
    "## 🏷️ Python Object-Oriented Programming (OOP) Cheat Sheet"
   ]
  },
  {
   "cell_type": "markdown",
   "id": "b41cd7fc",
   "metadata": {},
   "source": []
  },
  {
   "cell_type": "markdown",
   "id": "f6318b31",
   "metadata": {},
   "source": [
    "1️⃣ Defining a Class and Creating an Object\n",
    "```Python\n",
    "class Dog:\n",
    "    def __init__(self, name, age):\n",
    "        self.name = name\n",
    "        self.age = age\n",
    "\n",
    "    def bark(self):\n",
    "        print(f\"{self.name} says Woof!\")\n",
    "\n",
    "# Create object\n",
    "my_dog = Dog(\"Buddy\", 3)\n",
    "print(my_dog.name)  # Buddy\n",
    "my_dog.bark()       # Buddy says Woof!"
   ]
  },
  {
   "cell_type": "markdown",
   "id": "33fe4137",
   "metadata": {},
   "source": [
    "2️⃣ Instance vs Class Attributes\n",
    "```Python\n",
    "class Dog:\n",
    "    species = \"Canis familiaris\"  # class attribute\n",
    "\n",
    "    def __init__(self, name, age):\n",
    "        self.name = name          # instance attribute\n",
    "        self.age = age\n",
    "\n",
    "dog1 = Dog(\"Max\", 2)\n",
    "dog2 = Dog(\"Bella\", 4)\n",
    "\n",
    "print(dog1.species)  # Canis familiaris\n",
    "print(dog2.name)     # Bella"
   ]
  },
  {
   "cell_type": "markdown",
   "id": "1b2ee400",
   "metadata": {},
   "source": [
    "3️⃣ Methods\n",
    "```Python\n",
    "class Circle:\n",
    "    pi = 3.14159\n",
    "\n",
    "    def __init__(self, radius):\n",
    "        self.radius = radius\n",
    "\n",
    "    def area(self):\n",
    "        return Circle.pi * self.radius ** 2\n",
    "\n",
    "c = Circle(5)\n",
    "print(c.area())  # 78.53975"
   ]
  },
  {
   "cell_type": "markdown",
   "id": "3944abf0",
   "metadata": {},
   "source": [
    "4️⃣ Inheritance\n",
    "```Python\n",
    "class Animal:\n",
    "    def __init__(self, name):\n",
    "        self.name = name\n",
    "\n",
    "    def speak(self):\n",
    "        print(f\"{self.name} makes a sound\")\n",
    "\n",
    "class Dog(Animal):\n",
    "    def speak(self):\n",
    "        print(f\"{self.name} says Woof!\")\n",
    "\n",
    "d = Dog(\"Buddy\")\n",
    "d.speak()  # Buddy says Woof!"
   ]
  },
  {
   "cell_type": "markdown",
   "id": "897e9358",
   "metadata": {},
   "source": [
    "5️⃣ Super()\n",
    "```Python\n",
    "class Animal:\n",
    "    def __init__(self, name):\n",
    "        self.name = name\n",
    "\n",
    "class Dog(Animal):\n",
    "    def __init__(self, name, breed):\n",
    "        super().__init__(name)\n",
    "        self.breed = breed\n",
    "\n",
    "d = Dog(\"Max\", \"Beagle\")\n",
    "print(d.name)   # Max\n",
    "print(d.breed)  # Beagle"
   ]
  },
  {
   "cell_type": "markdown",
   "id": "eeef9343",
   "metadata": {},
   "source": [
    "6️⃣ Special (Magic) Methods\n",
    "```Python\n",
    "class Point:\n",
    "    def __init__(self, x, y):\n",
    "        self.x = x\n",
    "        self.y = y\n",
    "\n",
    "    def __str__(self):\n",
    "        return f\"({self.x}, {self.y})\"\n",
    "\n",
    "    def __add__(self, other):\n",
    "        return Point(self.x + other.x, self.y + other.y)\n",
    "\n",
    "p1 = Point(1, 2)\n",
    "p2 = Point(3, 4)\n",
    "print(p1)         # (1, 2)\n",
    "print(p1 + p2)    # (4, 6)"
   ]
  },
  {
   "cell_type": "markdown",
   "id": "1106ae59",
   "metadata": {},
   "source": [
    "7️⃣ Encapsulation (Private Attributes)\n",
    "```Python\n",
    "class BankAccount:\n",
    "    def __init__(self, balance):\n",
    "        self.__balance = balance  # private attribute\n",
    "\n",
    "    def deposit(self, amount):\n",
    "        self.__balance += amount\n",
    "\n",
    "    def get_balance(self):\n",
    "        return self.__balance\n",
    "\n",
    "account = BankAccount(100)\n",
    "account.deposit(50)\n",
    "print(account.get_balance())  # 150"
   ]
  },
  {
   "cell_type": "markdown",
   "id": "077bb43d",
   "metadata": {},
   "source": [
    "8️⃣ Class Methods and Static Methods\n",
    "```Python\n",
    "class Circle:\n",
    "    pi = 3.14159\n",
    "\n",
    "    def __init__(self, radius):\n",
    "        self.radius = radius\n",
    "\n",
    "    @classmethod\n",
    "    def from_diameter(cls, diameter):\n",
    "        return cls(diameter / 2)\n",
    "\n",
    "    @staticmethod\n",
    "    def info():\n",
    "        print(\"This class calculates circle area.\")\n",
    "\n",
    "c = Circle.from_diameter(10)\n",
    "print(c.radius)  # 5.0\n",
    "Circle.info()    # This class calculates circle area."
   ]
  },
  {
   "cell_type": "markdown",
   "id": "8754a5a8",
   "metadata": {},
   "source": [
    "💡 Tips:\n",
    "\n",
    "- __init__ initializes the object.\n",
    "\n",
    "- self refers to the instance.\n",
    "\n",
    "- Use inheritance to reuse code.\n",
    "\n",
    "- Special methods (__str__, __add__) customize behavior.\n",
    "\n",
    "- Private attributes: prefix with __.\n",
    "\n",
    "- @classmethod operates on the class, @staticmethod does not access class or instance."
   ]
  },
  {
   "cell_type": "markdown",
   "id": "f5b29f15",
   "metadata": {},
   "source": []
  }
 ],
 "metadata": {
  "language_info": {
   "name": "python"
  }
 },
 "nbformat": 4,
 "nbformat_minor": 5
}
