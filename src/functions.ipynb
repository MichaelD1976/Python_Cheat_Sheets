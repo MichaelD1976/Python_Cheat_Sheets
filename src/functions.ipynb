{
 "cells": [
  {
   "cell_type": "markdown",
   "id": "773de358",
   "metadata": {},
   "source": [
    "## 🛠️ Python Functions Cheat Sheet"
   ]
  },
  {
   "cell_type": "markdown",
   "id": "ecc6d253",
   "metadata": {},
   "source": []
  },
  {
   "cell_type": "markdown",
   "id": "b534d6e9",
   "metadata": {},
   "source": [
    "1️⃣ Basic Function Definition\n",
    "```python\n",
    "def greet():\n",
    "    print(\"Hello, World!\")\n",
    "\n",
    "greet()  # Hello, World!"
   ]
  },
  {
   "cell_type": "markdown",
   "id": "21ccb16e",
   "metadata": {},
   "source": []
  },
  {
   "cell_type": "markdown",
   "id": "2e233914",
   "metadata": {},
   "source": [
    "2️⃣ Function with Arguments\n",
    "```Python\n",
    "def greet_name(name):\n",
    "    print(f\"Hello, {name}!\")\n",
    "\n",
    "greet_name(\"Alice\")  # Hello, Alice!"
   ]
  },
  {
   "cell_type": "markdown",
   "id": "3ab206e7",
   "metadata": {},
   "source": [
    "3️⃣ Function with Return Value\n",
    "```Python\n",
    "def square(x):\n",
    "    return x**2\n",
    "\n",
    "result = square(5)\n",
    "print(result)  # 25"
   ]
  },
  {
   "cell_type": "markdown",
   "id": "23ad4837",
   "metadata": {},
   "source": [
    "4️⃣ Default Arguments\n",
    "```Python\n",
    "def greet(name=\"Guest\"):\n",
    "    print(f\"Hello, {name}!\")\n",
    "\n",
    "greet()        # Hello, Guest!\n",
    "greet(\"Bob\")   # Hello, Bob!"
   ]
  },
  {
   "cell_type": "markdown",
   "id": "6b73750d",
   "metadata": {},
   "source": [
    "5️⃣ Keyword Arguments\n",
    "```Python\n",
    "def describe_person(name, age):\n",
    "    print(f\"{name} is {age} years old.\")\n",
    "\n",
    "describe_person(age=30, name=\"Alice\")  # Alice is 30 years old."
   ]
  },
  {
   "cell_type": "markdown",
   "id": "d22353c4",
   "metadata": {},
   "source": [
    "6️⃣ Variable-length Arguments\n",
    "```Python\n",
    "*args (Positional)\n",
    "def add(*args):\n",
    "    return sum(args)\n",
    "\n",
    "print(add(1, 2, 3, 4))  # 10\n",
    "\n",
    "**kwargs (Keyword)\n",
    "def info(**kwargs):\n",
    "    for key, value in kwargs.items():\n",
    "        print(f\"{key}: {value}\")\n",
    "\n",
    "info(name=\"Alice\", age=25)"
   ]
  },
  {
   "cell_type": "markdown",
   "id": "fdcdf67a",
   "metadata": {},
   "source": [
    "7️⃣ Docstrings\n",
    "```Python\n",
    "def square(x):\n",
    "    \"\"\"\n",
    "    Returns the square of x.\n",
    "    \"\"\"\n",
    "    return x**2\n",
    "\n",
    "help(square)  # Shows the docstring"
   ]
  },
  {
   "cell_type": "markdown",
   "id": "f4e9b222",
   "metadata": {},
   "source": [
    "8️⃣ Lambda Functions (Anonymous)\n",
    "```Python\n",
    "square = lambda x: x**2\n",
    "print(square(5))  # 25\n",
    "\n",
    "add = lambda x, y: x + y\n",
    "print(add(3, 7))  # 10"
   ]
  },
  {
   "cell_type": "markdown",
   "id": "f39a66ab",
   "metadata": {},
   "source": [
    "9️⃣ Function Calling Other Functions\n",
    "```Python\n",
    "def double(x):\n",
    "    return x*2\n",
    "\n",
    "def triple(x):\n",
    "    return x*3\n",
    "\n",
    "def operate(x, func):\n",
    "    return func(x)\n",
    "\n",
    "print(operate(5, double))  # 10\n",
    "print(operate(5, triple))  # 15"
   ]
  },
  {
   "cell_type": "markdown",
   "id": "f4c69fbe",
   "metadata": {},
   "source": [
    "💡 Tips:\n",
    "\n",
    "- Always use docstrings for clarity.\n",
    "\n",
    "- Use default arguments for optional parameters.\n",
    "\n",
    "- Use *args and **kwargs for flexible argument lists.\n",
    "\n",
    "- Lambdas are great for short, single-expression functions, often used with map, filter, reduce."
   ]
  },
  {
   "cell_type": "markdown",
   "id": "6ed52455",
   "metadata": {},
   "source": []
  }
 ],
 "metadata": {
  "language_info": {
   "name": "python"
  }
 },
 "nbformat": 4,
 "nbformat_minor": 5
}
