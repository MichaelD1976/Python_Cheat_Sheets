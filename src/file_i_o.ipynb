{
 "cells": [
  {
   "cell_type": "markdown",
   "id": "226c1d29",
   "metadata": {},
   "source": [
    "## 📂 Python File I/O Cheat Sheet"
   ]
  },
  {
   "cell_type": "markdown",
   "id": "78e735d2",
   "metadata": {},
   "source": []
  },
  {
   "cell_type": "markdown",
   "id": "ec9d14bd",
   "metadata": {},
   "source": [
    "1️⃣ Reading and Writing Text Files\n",
    "\n",
    "Write to a file\n",
    "```python\n",
    "with open(\"example.txt\", \"w\") as f:\n",
    "    f.write(\"Hello, World!\\n\")\n",
    "    f.write(\"This is a second line.\\n\")\n",
    "\n",
    "Read entire file\n",
    "with open(\"example.txt\", \"r\") as f:\n",
    "    content = f.read()\n",
    "    print(content)\n",
    "\n",
    "Read line by line\n",
    "with open(\"example.txt\", \"r\") as f:\n",
    "    for line in f:\n",
    "        print(line.strip())"
   ]
  },
  {
   "cell_type": "markdown",
   "id": "22990b5e",
   "metadata": {},
   "source": [
    "2️⃣ Appending to a File\n",
    "```Python\n",
    "with open(\"example.txt\", \"a\") as f:\n",
    "    f.write(\"Appending a new line.\\n\")"
   ]
  },
  {
   "cell_type": "markdown",
   "id": "a0e5b4de",
   "metadata": {},
   "source": [
    "3️⃣ Using Path from pathlib\n",
    "```Python\n",
    "from pathlib import Path\n",
    "\n",
    "file_path = Path(\"example.txt\")\n",
    "\n",
    "# Check if file exists\n",
    "file_path.exists()\n",
    "\n",
    "# Read text\n",
    "text = file_path.read_text()\n",
    "print(text)\n",
    "\n",
    "# Write text\n",
    "file_path.write_text(\"Overwriting file content.\\n\")"
   ]
  },
  {
   "cell_type": "markdown",
   "id": "e1b95aa0",
   "metadata": {},
   "source": [
    "4️⃣ Working with CSV Files\n",
    "```Python\n",
    "import csv\n",
    "\n",
    "# Writing CSV\n",
    "with open(\"data.csv\", \"w\", newline=\"\") as csvfile:\n",
    "    writer = csv.writer(csvfile)\n",
    "    writer.writerow([\"Name\", \"Age\", \"City\"])\n",
    "    writer.writerow([\"Alice\", 25, \"New York\"])\n",
    "    writer.writerow([\"Bob\", 30, \"San Francisco\"])\n",
    "\n",
    "# Reading CSV\n",
    "with open(\"data.csv\", \"r\") as csvfile:\n",
    "    reader = csv.reader(csvfile)\n",
    "    for row in reader:\n",
    "        print(row)\n",
    "\n",
    "Using Pandas for CSV\n",
    "import pandas as pd\n",
    "\n",
    "df = pd.read_csv(\"data.csv\")\n",
    "print(df)\n",
    "\n",
    "df.to_csv(\"data_out.csv\", index=False)"
   ]
  },
  {
   "cell_type": "markdown",
   "id": "d5ad58eb",
   "metadata": {},
   "source": [
    "5️⃣ Working with JSON\n",
    "```Python\n",
    "import json\n",
    "\n",
    "data = {\"name\": \"Alice\", \"age\": 25, \"city\": \"New York\"}\n",
    "\n",
    "# Write JSON to file\n",
    "with open(\"data.json\", \"w\") as f:\n",
    "    json.dump(data, f, indent=4)\n",
    "\n",
    "# Read JSON from file\n",
    "with open(\"data.json\", \"r\") as f:\n",
    "    data_loaded = json.load(f)\n",
    "    print(data_loaded)"
   ]
  },
  {
   "cell_type": "markdown",
   "id": "1181201f",
   "metadata": {},
   "source": [
    "6️⃣ File Modes\n",
    "```Python\n",
    "Mode\tDescription\n",
    "'r'\tRead (default)\n",
    "'w'\tWrite (overwrite)\n",
    "'a'\tAppend\n",
    "'r+'\tRead and write\n",
    "'b'\tBinary mode (use 'rb' or 'wb')"
   ]
  },
  {
   "cell_type": "markdown",
   "id": "cb8ec529",
   "metadata": {},
   "source": [
    "💡 Tips:\n",
    "\n",
    "- Always use with open(...) as f to automatically close files.\n",
    "\n",
    "- For CSV/JSON, using pandas simplifies reading/writing structured data.\n",
    "\n",
    "- For binary files (images, pickle, etc.), use 'rb' and 'wb' modes."
   ]
  },
  {
   "cell_type": "markdown",
   "id": "e516c344",
   "metadata": {},
   "source": []
  }
 ],
 "metadata": {
  "kernelspec": {
   "display_name": ".venv",
   "language": "python",
   "name": "python3"
  },
  "language_info": {
   "codemirror_mode": {
    "name": "ipython",
    "version": 3
   },
   "file_extension": ".py",
   "mimetype": "text/x-python",
   "name": "python",
   "nbconvert_exporter": "python",
   "pygments_lexer": "ipython3",
   "version": "3.10.5"
  }
 },
 "nbformat": 4,
 "nbformat_minor": 5
}
