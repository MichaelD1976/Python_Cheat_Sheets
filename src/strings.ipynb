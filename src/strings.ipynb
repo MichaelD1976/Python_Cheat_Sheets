{
 "cells": [
  {
   "cell_type": "markdown",
   "id": "6776dc96",
   "metadata": {},
   "source": [
    "## 🔤 Python String & Regex Cheat Sheet"
   ]
  },
  {
   "cell_type": "markdown",
   "id": "2f441602",
   "metadata": {},
   "source": []
  },
  {
   "cell_type": "markdown",
   "id": "3bb91db8",
   "metadata": {},
   "source": [
    "1️⃣ Basic String Methods\n",
    "```python\n",
    "s = \"  Hello, World!  \"\n",
    "\n",
    "# Strip whitespace\n",
    "s.strip()          # \"Hello, World!\"\n",
    "\n",
    "# Case conversion\n",
    "s.lower()          # \"  hello, world!  \"\n",
    "s.upper()          # \"  HELLO, WORLD!  \"\n",
    "s.title()          # \"  Hello, World!  \"\n",
    "\n",
    "# Replace / Split / Join\n",
    "s.replace(\"World\", \"Python\")     # \"  Hello, Python!  \"\n",
    "s.split(\",\")                     # ['  Hello', ' World!  ']\n",
    "\"-\".join([\"a\",\"b\",\"c\"])          # \"a-b-c\"\n",
    "\n",
    "# Search / Check\n",
    "s.startswith(\"  He\")             # True\n",
    "s.endswith(\"!  \")                # True\n",
    "\"Hello\" in s                     # True\n",
    "\n",
    "# Length\n",
    "len(s)                            # 16"
   ]
  },
  {
   "cell_type": "markdown",
   "id": "1c308028",
   "metadata": {},
   "source": [
    "2️⃣ Regular Expressions (re module)\n",
    "```Python\n",
    "import re\n",
    "text = \"My phone numbers are 123-456-7890 and 987-654-3210.\"\n",
    "\n",
    "# Find all matches\n",
    "numbers = re.findall(r'\\d{3}-\\d{3}-\\d{4}', text)\n",
    "print(numbers)   # ['123-456-7890', '987-654-3210']\n",
    "\n",
    "# Search for first match\n",
    "match = re.search(r'\\d{3}-\\d{3}-\\d{4}', text)\n",
    "print(match.group())  # '123-456-7890'\n",
    "\n",
    "# Match at the beginning\n",
    "match = re.match(r'My', text)\n",
    "print(match.group())  # 'My'\n",
    "\n",
    "# Substitution\n",
    "clean_text = re.sub(r'\\d', 'X', text)\n",
    "print(clean_text)     # \"My phone numbers are XXX-XXX-XXXX and XXX-XXX-XXXX.\"\n",
    "\n",
    "# Split using regex\n",
    "parts = re.split(r'\\s+', text)\n",
    "print(parts)          # ['My', 'phone', 'numbers', 'are', ...]"
   ]
  },
  {
   "cell_type": "markdown",
   "id": "0323cd2f",
   "metadata": {},
   "source": [
    "3️⃣ Common Regex Patterns\n",
    "```Python\n",
    "Pattern\tMatches\n",
    "\\d\tAny digit [0-9]\n",
    "\\D\tAny non-digit\n",
    "\\w\tAny alphanumeric character [a-zA-Z0-9_]\n",
    "\\W\tAny non-alphanumeric\n",
    "\\s\tAny whitespace character\n",
    "\\S\tAny non-whitespace\n",
    ".\tAny character except newline\n",
    "^\tStart of string\n",
    "$\tEnd of string\n",
    "*\t0 or more repetitions\n",
    "+\t1 or more repetitions\n",
    "?\t0 or 1 occurrence\n",
    "{n}\tExactly n repetitions\n",
    "{n,m}\tBetween n and m repetitions"
   ]
  },
  {
   "cell_type": "markdown",
   "id": "41e565ea",
   "metadata": {},
   "source": []
  }
 ],
 "metadata": {
  "language_info": {
   "name": "python"
  }
 },
 "nbformat": 4,
 "nbformat_minor": 5
}
