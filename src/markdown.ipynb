{
 "cells": [
  {
   "cell_type": "markdown",
   "id": "46ea1de5",
   "metadata": {},
   "source": [
    "## 📝 Markdown Cheat Sheet"
   ]
  },
  {
   "cell_type": "markdown",
   "id": "8c8c00ab",
   "metadata": {},
   "source": []
  },
  {
   "cell_type": "markdown",
   "id": "3f99ede0",
   "metadata": {},
   "source": [
    "## 1️⃣ Headers\n",
    "```markdown\n",
    "# H1\n",
    "## H2\n",
    "### H3\n",
    "#### H4\n",
    "##### H5\n",
    "###### H6"
   ]
  },
  {
   "cell_type": "markdown",
   "id": "f45eb3be",
   "metadata": {},
   "source": []
  },
  {
   "cell_type": "markdown",
   "id": "2fc9a0e0",
   "metadata": {},
   "source": [
    "2️⃣ Emphasis\n",
    "*italic*       # italic\n",
    "_italic_       # italic\n",
    "**bold**       # bold\n",
    "__bold__       # bold\n",
    "***bold italic*** # both"
   ]
  },
  {
   "cell_type": "markdown",
   "id": "a2cee739",
   "metadata": {},
   "source": [
    "3️⃣ Lists\n",
    "Unordered List\n",
    "- Item 1\n",
    "- Item 2\n",
    "  - Subitem 2a\n",
    "  - Subitem 2b\n",
    "* Item 3"
   ]
  },
  {
   "cell_type": "markdown",
   "id": "2d5e90af",
   "metadata": {},
   "source": [
    "Ordered List\n",
    "1. First\n",
    "2. Second\n",
    "3. Third\n",
    "   1. Subitem\n",
    "   2. Subitem"
   ]
  },
  {
   "cell_type": "markdown",
   "id": "b7707b58",
   "metadata": {},
   "source": [
    "4️⃣ Links\n",
    "[Link Text](https://example.com)"
   ]
  },
  {
   "cell_type": "markdown",
   "id": "d6ada945",
   "metadata": {},
   "source": [
    "5️⃣ Images\n",
    "![Alt Text](https://via.placeholder.com/150)"
   ]
  },
  {
   "cell_type": "markdown",
   "id": "a851573a",
   "metadata": {},
   "source": [
    "6️⃣ Code\n",
    "Inline code\n",
    "Use `print(\"Hello\")` in Python\n",
    "\n",
    "Code block\n",
    "```python\n",
    "def foo(x):\n",
    "    return x**2"
   ]
  },
  {
   "cell_type": "markdown",
   "id": "db2adb39",
   "metadata": {},
   "source": [
    "## 7️⃣ Blockquotes\n",
    "```markdown\n",
    "> This is a blockquote\n",
    "> You can have multiple lines"
   ]
  },
  {
   "cell_type": "markdown",
   "id": "e46080f5",
   "metadata": {},
   "source": [
    "8️⃣ Horizontal Line\n",
    "---"
   ]
  },
  {
   "cell_type": "markdown",
   "id": "2b4391c5",
   "metadata": {},
   "source": [
    "9️⃣ Tables\n",
    "| Name  | Age | City      |\n",
    "|-------|-----|-----------|\n",
    "| Alice | 25  | New York  |\n",
    "| Bob   | 30  | San Francisco |"
   ]
  },
  {
   "cell_type": "markdown",
   "id": "cb60bfa9",
   "metadata": {},
   "source": [
    "🔟 Emojis\n",
    "\n",
    "Use :emoji_name: format. Some examples:\n",
    "\n",
    "Emoji\tSyntax\n",
    "😄\t:smile:\n",
    "🚀\t:rocket:\n",
    "✅\t:white_check_mark:\n",
    "🔥\t:fire:\n",
    "🐍\t:snake:\n",
    "📊\t:bar_chart:\n",
    "💡\t:bulb:\n",
    "📝\t:memo:\n",
    "⚡\t:zap:\n",
    "❤️\t:heart:\n",
    "\n",
    "You can mix emojis with text:\n",
    "\n",
    "# Data Analysis Cheat Sheet 🚀\n",
    "\n",
    "Emoji links\n",
    "https://www.webfx.com/tools/emoji-cheat-sheet/\n",
    "https://emojipedia.org/"
   ]
  },
  {
   "cell_type": "markdown",
   "id": "cdc1570b",
   "metadata": {},
   "source": [
    "Misc Tips\n",
    "\n",
    "Use double spaces at the end of a line for a line break.\n",
    "\n",
    "Markdown is case-insensitive for most syntax (headers, bold, italic).\n",
    "\n",
    "Combine with LaTeX for math: $x^2 + y^2 = z^2$."
   ]
  },
  {
   "cell_type": "markdown",
   "id": "4a5f2517",
   "metadata": {},
   "source": []
  }
 ],
 "metadata": {
  "language_info": {
   "name": "python"
  }
 },
 "nbformat": 4,
 "nbformat_minor": 5
}
