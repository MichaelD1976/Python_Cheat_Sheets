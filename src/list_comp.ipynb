{
 "cells": [
  {
   "cell_type": "markdown",
   "id": "6e9b79fa",
   "metadata": {},
   "source": [
    "## 📋 Python List Comprehension Cheat Sheet"
   ]
  },
  {
   "cell_type": "markdown",
   "id": "51c3e54a",
   "metadata": {},
   "source": []
  },
  {
   "cell_type": "markdown",
   "id": "58e2f4b0",
   "metadata": {},
   "source": [
    "1️⃣ Basic List Comprehension\n",
    "```python\n",
    "# Create a list of squares\n",
    "squares = [x**2 for x in range(5)]\n",
    "print(squares)   # [0, 1, 4, 9, 16]"
   ]
  },
  {
   "cell_type": "markdown",
   "id": "2a54fe6f",
   "metadata": {},
   "source": []
  },
  {
   "cell_type": "markdown",
   "id": "d7a2c4be",
   "metadata": {},
   "source": [
    "2️⃣ With Conditional (Filter)\n",
    "```Python\n",
    "# Only even numbers\n",
    "evens = [x for x in range(10) if x % 2 == 0]\n",
    "print(evens)     # [0, 2, 4, 6, 8]"
   ]
  },
  {
   "cell_type": "markdown",
   "id": "17043aba",
   "metadata": {},
   "source": [
    "3️⃣ With Else (Conditional Expression)\n",
    "```Python\n",
    "# Label numbers as 'even' or 'odd'\n",
    "labels = ['even' if x % 2 == 0 else 'odd' for x in range(5)]\n",
    "print(labels)    # ['even', 'odd', 'even', 'odd', 'even']"
   ]
  },
  {
   "cell_type": "markdown",
   "id": "9217cbb1",
   "metadata": {},
   "source": [
    "4️⃣ Nested Loops\n",
    "```Python\n",
    "# Generate all pairs (i,j) for i in 0..2, j in 0..2\n",
    "pairs = [(i,j) for i in range(3) for j in range(3)]\n",
    "print(pairs)     # [(0,0),(0,1),(0,2),(1,0),(1,1),(1,2),(2,0),(2,1),(2,2)]"
   ]
  },
  {
   "cell_type": "markdown",
   "id": "a6b1622c",
   "metadata": {},
   "source": [
    "5️⃣ Flatten a List of Lists\n",
    "```Python\n",
    "matrix = [[1,2,3],[4,5,6],[7,8,9]]\n",
    "flat = [x for row in matrix for x in row]\n",
    "print(flat)      # [1,2,3,4,5,6,7,8,9]"
   ]
  },
  {
   "cell_type": "markdown",
   "id": "f91320a1",
   "metadata": {},
   "source": [
    "6️⃣ Applying a Function\n",
    "```Python\n",
    "# Apply function to each element\n",
    "nums = [1,2,3,4]\n",
    "squared = [x**2 for x in nums]\n",
    "print(squared)   # [1, 4, 9, 16]"
   ]
  },
  {
   "cell_type": "markdown",
   "id": "73c48e84",
   "metadata": {},
   "source": [
    "7️⃣ Using with Strings\n",
    "```Python\n",
    "words = [\"hello\", \"world\"]\n",
    "upper_words = [w.upper() for w in words]\n",
    "print(upper_words)  # ['HELLO', 'WORLD']"
   ]
  },
  {
   "cell_type": "markdown",
   "id": "9658e25f",
   "metadata": {},
   "source": [
    "8️⃣ With Dictionary Comprehension (Optional)\n",
    "```Python\n",
    "# Create dict from list\n",
    "nums = [1,2,3]\n",
    "squares_dict = {x: x**2 for x in nums}\n",
    "print(squares_dict)  # {1:1, 2:4, 3:9}"
   ]
  },
  {
   "cell_type": "markdown",
   "id": "0c486234",
   "metadata": {},
   "source": []
  },
  {
   "cell_type": "markdown",
   "id": "1d203be6",
   "metadata": {},
   "source": []
  }
 ],
 "metadata": {
  "language_info": {
   "name": "python"
  }
 },
 "nbformat": 4,
 "nbformat_minor": 5
}
