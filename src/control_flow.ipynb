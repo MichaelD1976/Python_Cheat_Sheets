{
 "cells": [
  {
   "cell_type": "markdown",
   "id": "d2795e15",
   "metadata": {},
   "source": [
    "## 🔄 Python Control Flow Cheat Sheet"
   ]
  },
  {
   "cell_type": "markdown",
   "id": "fcb04880",
   "metadata": {},
   "source": []
  },
  {
   "cell_type": "markdown",
   "id": "6e756372",
   "metadata": {},
   "source": [
    "1️⃣ If / Elif / Else\n",
    "```python\n",
    "x = 10\n",
    "\n",
    "if x > 10:\n",
    "    print(\"Greater than 10\")\n",
    "elif x == 10:\n",
    "    print(\"Equal to 10\")\n",
    "else:\n",
    "    print(\"Less than 10\")"
   ]
  },
  {
   "cell_type": "markdown",
   "id": "1b8876d0",
   "metadata": {},
   "source": []
  },
  {
   "cell_type": "markdown",
   "id": "9c688418",
   "metadata": {},
   "source": [
    "2️⃣ For Loops\n",
    "```Python\n",
    "# Loop over a list\n",
    "fruits = [\"apple\", \"banana\", \"cherry\"]\n",
    "for fruit in fruits:\n",
    "    print(fruit)\n",
    "\n",
    "# Loop with range\n",
    "for i in range(5):\n",
    "    print(i)  # 0 1 2 3 4"
   ]
  },
  {
   "cell_type": "markdown",
   "id": "79ceeb70",
   "metadata": {},
   "source": [
    "3️⃣ While Loops\n",
    "```Python\n",
    "i = 0\n",
    "while i < 5:\n",
    "    print(i)\n",
    "    i += 1"
   ]
  },
  {
   "cell_type": "markdown",
   "id": "23107cf2",
   "metadata": {},
   "source": [
    "4️⃣ Break and Continue\n",
    "```Python\n",
    "for i in range(5):\n",
    "    if i == 3:\n",
    "        break    # Exit loop\n",
    "    print(i)\n",
    "\n",
    "for i in range(5):\n",
    "    if i == 3:\n",
    "        continue  # Skip iteration\n",
    "    print(i)"
   ]
  },
  {
   "cell_type": "markdown",
   "id": "fe4df971",
   "metadata": {},
   "source": [
    "5️⃣ Else with Loops\n",
    "```Python\n",
    "# Executes if loop completes without break\n",
    "for i in range(3):\n",
    "    print(i)\n",
    "else:\n",
    "    print(\"Loop finished without break\")"
   ]
  },
  {
   "cell_type": "markdown",
   "id": "def13749",
   "metadata": {},
   "source": [
    "6️⃣ Nested Loops\n",
    "```Python\n",
    "for i in range(3):\n",
    "    for j in range(2):\n",
    "        print(f\"i={i}, j={j}\")"
   ]
  },
  {
   "cell_type": "markdown",
   "id": "9a2d107b",
   "metadata": {},
   "source": [
    "7️⃣ Useful Loop Helpers\n",
    "```Python\n",
    "Enumerate\n",
    "fruits = [\"apple\", \"banana\", \"cherry\"]\n",
    "for idx, fruit in enumerate(fruits):\n",
    "    print(idx, fruit)\n",
    "\n",
    "Zip\n",
    "names = [\"Alice\", \"Bob\"]\n",
    "ages = [25, 30]\n",
    "\n",
    "for name, age in zip(names, ages):\n",
    "    print(name, age)"
   ]
  },
  {
   "cell_type": "markdown",
   "id": "8ece9988",
   "metadata": {},
   "source": [
    "8️⃣ Pass Statement\n",
    "```Python\n",
    "x = 5\n",
    "if x > 10:\n",
    "    pass  # Do nothing for now"
   ]
  },
  {
   "cell_type": "markdown",
   "id": "b7d03a9c",
   "metadata": {},
   "source": [
    "💡 Tips:\n",
    "\n",
    "- Use for loops for iterables, while loops for conditional repetition.\n",
    "\n",
    "- enumerate is great when you need both index and value.\n",
    "\n",
    "- zip is useful for parallel iteration over multiple lists.\n",
    "\n",
    "- break exits loops early, continue skips to next iteration.\n",
    "\n",
    "- else after a loop runs only if no break occurs."
   ]
  }
 ],
 "metadata": {
  "language_info": {
   "name": "python"
  }
 },
 "nbformat": 4,
 "nbformat_minor": 5
}
