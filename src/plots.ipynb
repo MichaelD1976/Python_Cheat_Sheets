{
 "cells": [
  {
   "cell_type": "markdown",
   "id": "0cc4da5e",
   "metadata": {},
   "source": [
    "## 📈 Basic Plotting Cheat Sheet\n",
    "\n",
    "#### 1️⃣ Setup\n",
    "```python\n",
    "import matplotlib.pyplot as plt\n",
    "import numpy as np\n",
    "import pandas as pd\n",
    "import seaborn as sns\n",
    "\n",
    "# For inline plots in Jupyter\n",
    "%matplotlib inline"
   ]
  },
  {
   "cell_type": "markdown",
   "id": "b04afd1e",
   "metadata": {},
   "source": [
    "```Python\n",
    "2️⃣ Simple Line Plot\n",
    "x = np.linspace(0, 10, 100)\n",
    "y = np.sin(x)\n",
    "\n",
    "plt.plot(x, y)               # Basic line\n",
    "plt.plot(x, y, 'r--')        # Red dashed line\n",
    "plt.xlabel('X-axis')\n",
    "plt.ylabel('Y-axis')\n",
    "plt.title('Line Plot Example')\n",
    "plt.show()"
   ]
  },
  {
   "cell_type": "markdown",
   "id": "cfc8509e",
   "metadata": {},
   "source": []
  },
  {
   "cell_type": "markdown",
   "id": "d7aff757",
   "metadata": {},
   "source": [
    "```Python\n",
    "3️⃣ Scatter Plot\n",
    "x = np.random.rand(50)\n",
    "y = np.random.rand(50)\n",
    "\n",
    "plt.scatter(x, y, color='green', s=50)   # s = marker size\n",
    "plt.xlabel('X')\n",
    "plt.ylabel('Y')\n",
    "plt.title('Scatter Plot')\n",
    "plt.show()"
   ]
  },
  {
   "cell_type": "markdown",
   "id": "79f84b55",
   "metadata": {},
   "source": []
  },
  {
   "cell_type": "markdown",
   "id": "7110be9f",
   "metadata": {},
   "source": [
    "```Python\n",
    "4️⃣ Bar Plot\n",
    "categories = ['A', 'B', 'C']\n",
    "values = [10, 15, 7]\n",
    "\n",
    "plt.bar(categories, values, color='skyblue')\n",
    "plt.title('Bar Plot')\n",
    "plt.show()"
   ]
  },
  {
   "cell_type": "markdown",
   "id": "d42da482",
   "metadata": {},
   "source": [
    "```Python"
   ]
  },
  {
   "cell_type": "markdown",
   "id": "80b23d1c",
   "metadata": {},
   "source": [
    "```Python\n",
    "5️⃣ Histogram\n",
    "data = np.random.randn(1000)\n",
    "\n",
    "plt.hist(data, bins=30, color='orange', edgecolor='black')\n",
    "plt.title('Histogram')\n",
    "plt.show()"
   ]
  },
  {
   "cell_type": "markdown",
   "id": "21b533a7",
   "metadata": {},
   "source": [
    "```Python\n",
    "6️⃣ Box Plot\n",
    "data = np.random.randn(100)\n",
    "\n",
    "plt.boxplot(data)\n",
    "plt.title('Box Plot')\n",
    "plt.show()\n",
    "\n",
    "\n",
    "Or with Seaborn:\n",
    "\n",
    "sns.boxplot(data=data)"
   ]
  },
  {
   "cell_type": "markdown",
   "id": "d610daf5",
   "metadata": {},
   "source": [
    "```Python\n",
    "7️⃣ Multiple Lines / Legend\n",
    "x = np.linspace(0, 10, 100)\n",
    "plt.plot(x, np.sin(x), label='sin(x)')\n",
    "plt.plot(x, np.cos(x), label='cos(x)')\n",
    "plt.legend()\n",
    "plt.title('Multiple Lines')\n",
    "plt.show()"
   ]
  },
  {
   "cell_type": "markdown",
   "id": "ef1451af",
   "metadata": {},
   "source": [
    "```Python\n",
    "8️⃣ Subplots\n",
    "x = np.linspace(0, 10, 100)\n",
    "y1 = np.sin(x)\n",
    "y2 = np.cos(x)\n",
    "\n",
    "fig, axs = plt.subplots(2, 1, figsize=(6,8))\n",
    "axs[0].plot(x, y1)\n",
    "axs[0].set_title('sin(x)')\n",
    "axs[1].plot(x, y2, 'r')\n",
    "axs[1].set_title('cos(x)')\n",
    "plt.tight_layout()\n",
    "plt.show()"
   ]
  },
  {
   "cell_type": "markdown",
   "id": "8aca5cfa",
   "metadata": {},
   "source": [
    "```Python\n",
    "9️⃣ Pie Chart\n",
    "sizes = [15, 30, 45, 10]\n",
    "labels = ['A', 'B', 'C', 'D']\n",
    "\n",
    "plt.pie(sizes, labels=labels, autopct='%1.1f%%', startangle=90)\n",
    "plt.title('Pie Chart')\n",
    "plt.show()"
   ]
  },
  {
   "cell_type": "markdown",
   "id": "7015bfb1",
   "metadata": {},
   "source": [
    "```Python\n",
    "10️⃣ Seaborn Examples (Optional)\n",
    "# Scatter with regression line\n",
    "df = sns.load_dataset('tips')\n",
    "sns.lmplot(x='total_bill', y='tip', data=df)\n",
    "\n",
    "# Categorical plot\n",
    "sns.countplot(x='day', data=df)\n",
    "\n",
    "# Heatmap\n",
    "corr = df.corr()\n",
    "sns.heatmap(corr, annot=True)"
   ]
  },
  {
   "cell_type": "markdown",
   "id": "bec6ad4b",
   "metadata": {},
   "source": [
    "```Python"
   ]
  }
 ],
 "metadata": {
  "language_info": {
   "name": "python"
  }
 },
 "nbformat": 4,
 "nbformat_minor": 5
}
