{
 "cells": [
  {
   "cell_type": "markdown",
   "id": "606591fa",
   "metadata": {},
   "source": [
    "## ⚡ Python Lambda Functions Cheat Sheet"
   ]
  },
  {
   "cell_type": "markdown",
   "id": "1b87c8e9",
   "metadata": {},
   "source": [
    "- Lambda = anonymous, single-expression function\n",
    "\n",
    "- Often used with map, filter, reduce, sorted, apply\n",
    "\n",
    "- Useful for short, inline operations without defining a full function"
   ]
  },
  {
   "cell_type": "markdown",
   "id": "e7292394",
   "metadata": {},
   "source": [
    "#### 1️⃣ Basic Syntax\n",
    "```python\n",
    "# lambda arguments: expression\n",
    "f = lambda x: x**2\n",
    "print(f(5))  # 25"
   ]
  },
  {
   "cell_type": "markdown",
   "id": "15ce3ed7",
   "metadata": {},
   "source": []
  },
  {
   "cell_type": "markdown",
   "id": "0ee96dba",
   "metadata": {},
   "source": [
    "```Python\n",
    "2️⃣ Multiple Arguments\n",
    "add = lambda x, y: x + y\n",
    "print(add(3, 7))  # 10"
   ]
  },
  {
   "cell_type": "markdown",
   "id": "546c2ee4",
   "metadata": {},
   "source": []
  },
  {
   "cell_type": "markdown",
   "id": "74f64fb5",
   "metadata": {},
   "source": [
    "```Python\n",
    "3️⃣ Conditional Expression\n",
    "max_val = lambda x, y: x if x > y else y\n",
    "print(max_val(10, 15))  # 15"
   ]
  },
  {
   "cell_type": "markdown",
   "id": "297cb84c",
   "metadata": {},
   "source": []
  },
  {
   "cell_type": "markdown",
   "id": "b142baa2",
   "metadata": {},
   "source": [
    "```Python\n",
    "4️⃣ Using with map()\n",
    "nums = [1, 2, 3, 4]\n",
    "squared = list(map(lambda x: x**2, nums))\n",
    "print(squared)  # [1, 4, 9, 16]"
   ]
  },
  {
   "cell_type": "markdown",
   "id": "cd1a1faa",
   "metadata": {},
   "source": [
    "```Python"
   ]
  },
  {
   "cell_type": "markdown",
   "id": "a63fb5cd",
   "metadata": {},
   "source": [
    "```Python\n",
    "5️⃣ Using with filter()\n",
    "nums = [1, 2, 3, 4, 5, 6]\n",
    "evens = list(filter(lambda x: x % 2 == 0, nums))\n",
    "print(evens)  # [2, 4, 6]"
   ]
  },
  {
   "cell_type": "markdown",
   "id": "f5af9585",
   "metadata": {},
   "source": [
    "```Python\n",
    "6️⃣ Using with reduce()\n",
    "from functools import reduce\n",
    "# reduce is a function in the functools module that applies a function cumulatively to the items of a sequence, reducing it to a single value.\n",
    "\n",
    "nums = [1, 2, 3, 4]\n",
    "product = reduce(lambda x, y: x * y, nums)\n",
    "print(product)  # 24"
   ]
  },
  {
   "cell_type": "markdown",
   "id": "09e9da28",
   "metadata": {},
   "source": [
    "```Python\n",
    "7️⃣ Sorting with a Lambda Key\n",
    "data = [(1, 'b'), (3, 'a'), (2, 'c')]\n",
    "sorted_by_second = sorted(data, key=lambda x: x[1])\n",
    "print(sorted_by_second)  # [(3, 'a'), (1, 'b'), (2, 'c')]"
   ]
  },
  {
   "cell_type": "markdown",
   "id": "d2d9c1b3",
   "metadata": {},
   "source": [
    "```Python\n",
    "8️⃣ Lambda in Pandas\n",
    "import pandas as pd\n",
    "\n",
    "df = pd.DataFrame({'a':[1,2,3], 'b':[4,5,6]})\n",
    "df['c'] = df['a'].apply(lambda x: x**2)\n",
    "print(df)"
   ]
  }
 ],
 "metadata": {
  "language_info": {
   "name": "python"
  }
 },
 "nbformat": 4,
 "nbformat_minor": 5
}
