{
 "cells": [
  {
   "cell_type": "markdown",
   "id": "4f1e1edd",
   "metadata": {},
   "source": [
    "# Pandas Commands"
   ]
  },
  {
   "cell_type": "code",
   "execution_count": 19,
   "id": "809d066d",
   "metadata": {},
   "outputs": [],
   "source": [
    "import pandas as pd\n",
    "import numpy as np"
   ]
  },
  {
   "cell_type": "markdown",
   "id": "806b4ae5",
   "metadata": {},
   "source": [
    "#### 1. Setup & Inspection"
   ]
  },
  {
   "cell_type": "markdown",
   "id": "ed747074",
   "metadata": {},
   "source": [
    "```python\n",
    "import pandas as pd\n",
    "\n",
    "df = pd.read_csv(\"file.csv\")       # Load CSV\n",
    "df.head()                          # First 5 rows\n",
    "df.tail(10)                        # Last 10 rows\n",
    "df.info()                          # Column types & nulls\n",
    "df.describe()                      # Summary statistics\n",
    "df.shape                          # (rows, columns)"
   ]
  },
  {
   "cell_type": "code",
   "execution_count": 25,
   "id": "6af93b82",
   "metadata": {},
   "outputs": [],
   "source": [
    "df = pd.DataFrame({\n",
    "    'A': [1, 2, 3,4],\n",
    "    'B': [5, 6,7,8],\n",
    "    'C': [9, 10,11,12]\n",
    "})"
   ]
  },
  {
   "cell_type": "code",
   "execution_count": 27,
   "id": "878895d0",
   "metadata": {},
   "outputs": [
    {
     "data": {
      "text/plain": [
       "A    int64\n",
       "B    int64\n",
       "C    int64\n",
       "dtype: object"
      ]
     },
     "execution_count": 27,
     "metadata": {},
     "output_type": "execute_result"
    }
   ],
   "source": [
    "df.dtypes"
   ]
  },
  {
   "cell_type": "code",
   "execution_count": 11,
   "id": "87731b77",
   "metadata": {},
   "outputs": [
    {
     "data": {
      "text/html": [
       "<div>\n",
       "<style scoped>\n",
       "    .dataframe tbody tr th:only-of-type {\n",
       "        vertical-align: middle;\n",
       "    }\n",
       "\n",
       "    .dataframe tbody tr th {\n",
       "        vertical-align: top;\n",
       "    }\n",
       "\n",
       "    .dataframe thead th {\n",
       "        text-align: right;\n",
       "    }\n",
       "</style>\n",
       "<table border=\"1\" class=\"dataframe\">\n",
       "  <thead>\n",
       "    <tr style=\"text-align: right;\">\n",
       "      <th></th>\n",
       "      <th>A</th>\n",
       "      <th>B</th>\n",
       "      <th>C</th>\n",
       "    </tr>\n",
       "  </thead>\n",
       "  <tbody>\n",
       "    <tr>\n",
       "      <th>0</th>\n",
       "      <td>1</td>\n",
       "      <td>5</td>\n",
       "      <td>9</td>\n",
       "    </tr>\n",
       "    <tr>\n",
       "      <th>1</th>\n",
       "      <td>2</td>\n",
       "      <td>6</td>\n",
       "      <td>10</td>\n",
       "    </tr>\n",
       "    <tr>\n",
       "      <th>2</th>\n",
       "      <td>3</td>\n",
       "      <td>7</td>\n",
       "      <td>11</td>\n",
       "    </tr>\n",
       "    <tr>\n",
       "      <th>3</th>\n",
       "      <td>4</td>\n",
       "      <td>8</td>\n",
       "      <td>12</td>\n",
       "    </tr>\n",
       "  </tbody>\n",
       "</table>\n",
       "</div>"
      ],
      "text/plain": [
       "   A  B   C\n",
       "0  1  5   9\n",
       "1  2  6  10\n",
       "2  3  7  11\n",
       "3  4  8  12"
      ]
     },
     "execution_count": 11,
     "metadata": {},
     "output_type": "execute_result"
    }
   ],
   "source": [
    "df"
   ]
  },
  {
   "cell_type": "markdown",
   "id": "f2c61d67",
   "metadata": {},
   "source": [
    "#### 2. Selection and Indexing"
   ]
  },
  {
   "cell_type": "markdown",
   "id": "63124c8e",
   "metadata": {},
   "source": [
    "```python\n",
    "df[\"col\"]                          # Single column\n",
    "df[[\"col1\", \"col2\"]]               # Multiple columns\n",
    "df.loc[0, \"col\"]                   # Row + column by labels\n",
    "df.iloc[0, 2]                      # Row + column by index\n",
    "df[df[\"col\"] > 10]                 # Conditional filtering\n"
   ]
  },
  {
   "cell_type": "code",
   "execution_count": 22,
   "id": "975f6b28",
   "metadata": {},
   "outputs": [
    {
     "name": "stdout",
     "output_type": "stream",
     "text": [
      "0    5\n",
      "1    6\n",
      "2    7\n",
      "3    8\n",
      "Name: B, dtype: int64\n"
     ]
    }
   ],
   "source": [
    "# Each command returns a numpy array, to extract values use .values\n",
    "\n",
    "# df['A']\n",
    "# df.loc[2, 'B']  # Row + column by labels\n",
    "# df.iloc[3, 2] # Row + column by position\n",
    "\n",
    "# value = df.iloc[2, 2]\n",
    "# print(value)\n",
    "\n",
    "array = df['B']\n",
    "print(array)"
   ]
  },
  {
   "cell_type": "markdown",
   "id": "923315b1",
   "metadata": {},
   "source": [
    "#### 3. Sorting & Renaming"
   ]
  },
  {
   "cell_type": "markdown",
   "id": "8925c5d9",
   "metadata": {},
   "source": [
    "```Python\n",
    "df.sort_values(\"col\", ascending=False)    # Sort by column\n",
    "df.rename(columns={\"old\":\"new\"}, inplace=True)\n",
    "df.reset_index(drop=True, inplace=True)"
   ]
  },
  {
   "cell_type": "markdown",
   "id": "09eb31c9",
   "metadata": {},
   "source": [
    "df['A'] = df['A'].astype('float')"
   ]
  },
  {
   "cell_type": "markdown",
   "id": "4db1a728",
   "metadata": {},
   "source": [
    "#### 4. Handling Missing Data"
   ]
  },
  {
   "cell_type": "markdown",
   "id": "9a4d469d",
   "metadata": {},
   "source": [
    "```Python\n",
    "df.isna().sum()                    # Count missing\n",
    "df.dropna()                        # Drop rows with NaN\n",
    "df.fillna(0)                       # Fill with 0\n",
    "df.fillna(df[\"col\"].mean())        # Fill with mean"
   ]
  },
  {
   "cell_type": "code",
   "execution_count": null,
   "id": "8a3c2e9b",
   "metadata": {},
   "outputs": [],
   "source": [
    "# df.dropna(inplace=true)  # Drop rows with any NaN values\n",
    "# df.fillna(0, inplace=true)  # Fill NaN values with 0\n",
    "\n",
    "# df['B'].replace(np.nan,df['B'].mean(),inplace=True)  # Replace NaN with column mean"
   ]
  },
  {
   "cell_type": "markdown",
   "id": "10c5e7f3",
   "metadata": {},
   "source": [
    "#### 5. Aggregation & Grouping"
   ]
  },
  {
   "cell_type": "markdown",
   "id": "f6a54040",
   "metadata": {},
   "source": [
    "```Python\n",
    "df[\"col\"].value_counts()           # Frequency count\n",
    "df.groupby(\"category\")[\"value\"].mean()\n",
    "df.pivot_table(values=\"val\", index=\"col1\", columns=\"col2\", aggfunc=\"mean\")"
   ]
  },
  {
   "cell_type": "code",
   "execution_count": null,
   "id": "3c6d964f",
   "metadata": {},
   "outputs": [],
   "source": []
  },
  {
   "cell_type": "markdown",
   "id": "506b37a7",
   "metadata": {},
   "source": [
    "#### 6. Adding & Modifying Columns"
   ]
  },
  {
   "cell_type": "markdown",
   "id": "891dd7a0",
   "metadata": {},
   "source": [
    "```Python\n",
    "df[\"new\"] = df[\"col1\"] + df[\"col2\"]\n",
    "df[\"col\"].apply(lambda x: x**2)\n",
    "df.assign(ratio=df[\"a\"]/df[\"b\"])\n"
   ]
  },
  {
   "cell_type": "code",
   "execution_count": 28,
   "id": "4dee71ab",
   "metadata": {},
   "outputs": [],
   "source": [
    "# Conditional Selection\n",
    "# filtered_df = df[df['A'] > 2]\n",
    "# filtered_df_2 = df[(df['A'] > 1) & (df['B'] < 8)]"
   ]
  },
  {
   "cell_type": "markdown",
   "id": "5a5e1c91",
   "metadata": {},
   "source": [
    "#### 7. Merging & Joining"
   ]
  },
  {
   "cell_type": "markdown",
   "id": "0de45e0f",
   "metadata": {},
   "source": [
    "```Python\n",
    "pd.concat([df1, df2])              # Stack vertically\n",
    "pd.merge(df1, df2, on=\"key\")       # SQL-style join"
   ]
  },
  {
   "cell_type": "code",
   "execution_count": null,
   "id": "1307af12",
   "metadata": {},
   "outputs": [],
   "source": []
  },
  {
   "cell_type": "markdown",
   "id": "70cc884a",
   "metadata": {},
   "source": []
  },
  {
   "cell_type": "markdown",
   "id": "1e7216fb",
   "metadata": {},
   "source": [
    "#### 8. Exporting"
   ]
  },
  {
   "cell_type": "markdown",
   "id": "1e65f6de",
   "metadata": {},
   "source": [
    "````Python\n",
    "df.to_csv(\"output.csv\", index=False)\n",
    "df.to_excel(\"output.xlsx\", index=False)"
   ]
  },
  {
   "cell_type": "code",
   "execution_count": null,
   "id": "15fcc682",
   "metadata": {},
   "outputs": [],
   "source": [
    "# Plots\n",
    "\n",
    "# df.plot(x='A', y='B', kind='scatter')  # Scatter plot\n",
    "# df.plot(x='A', y='B', kind='line')  # Line plot\n",
    "# df.plot(x='A', y='B', kind='bar')  # Bar plot\n",
    "# df.plot(x='A', y='B', kind='barh')  # Horizontal bar plot\n",
    "# df.plot(x='A', y='B', kind='hist')  # Histogram\n",
    "# df.plot(x='A', y='B', kind='box')  # Box plot\n",
    "# df.plot(x='A', y='B', kind='area')  # Area plot\n",
    "\n",
    "\n"
   ]
  }
 ],
 "metadata": {
  "kernelspec": {
   "display_name": ".venv",
   "language": "python",
   "name": "python3"
  },
  "language_info": {
   "codemirror_mode": {
    "name": "ipython",
    "version": 3
   },
   "file_extension": ".py",
   "mimetype": "text/x-python",
   "name": "python",
   "nbconvert_exporter": "python",
   "pygments_lexer": "ipython3",
   "version": "3.10.5"
  }
 },
 "nbformat": 4,
 "nbformat_minor": 5
}
