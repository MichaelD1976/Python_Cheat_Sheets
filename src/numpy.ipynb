{
 "cells": [
  {
   "cell_type": "markdown",
   "id": "3be94750",
   "metadata": {},
   "source": [
    "## 🔢 NumPy Basics Cheat Sheet"
   ]
  },
  {
   "cell_type": "markdown",
   "id": "d40ece40",
   "metadata": {},
   "source": []
  },
  {
   "cell_type": "code",
   "execution_count": 1,
   "id": "a1d182c9",
   "metadata": {},
   "outputs": [],
   "source": [
    "import numpy as np"
   ]
  },
  {
   "cell_type": "markdown",
   "id": "6d8b537f",
   "metadata": {},
   "source": [
    "\n",
    "#### 2️⃣ Array Creation\n",
    "````Python\n",
    "a = np.array([1, 2, 3])            # 1D array\n",
    "b = np.array([[1,2,3],[4,5,6]])    # 2D array\n",
    "\n",
    "zeros = np.zeros((2,3))            # 2x3 array of zeros\n",
    "ones = np.ones((3,2))              # 3x2 array of ones\n",
    "arange = np.arange(0, 10, 2)       # [0,2,4,6,8]\n",
    "linspace = np.linspace(0, 1, 5)    # 5 evenly spaced numbers from 0 to 1\n",
    "eye = np.eye(3)                     # 3x3 identity matrix\n"
   ]
  },
  {
   "cell_type": "markdown",
   "id": "91386e11",
   "metadata": {},
   "source": []
  },
  {
   "cell_type": "markdown",
   "id": "dd2d826c",
   "metadata": {},
   "source": [
    "3️⃣ Array Attributes\n",
    "``` Python\n",
    "arr = np.array([[1,2,3],[4,5,6]])\n",
    "arr.shape     # (2,3)\n",
    "arr.size      # 6\n",
    "arr.ndim      # 2\n",
    "arr.dtype     # dtype of elements"
   ]
  },
  {
   "cell_type": "markdown",
   "id": "1ef441c7",
   "metadata": {},
   "source": [
    "4️⃣ Indexing & Slicing\n",
    "``` Python\n",
    "a = np.array([10,20,30,40])\n",
    "print(a[1])        # 20\n",
    "print(a[1:3])      # [20 30]\n",
    "\n",
    "b = np.array([[1,2,3],[4,5,6]])\n",
    "print(b[0,1])      # 2\n",
    "print(b[:,2])      # all rows, column 2 → [3 6]"
   ]
  },
  {
   "cell_type": "markdown",
   "id": "fed51b6f",
   "metadata": {},
   "source": [
    "5️⃣ Array Operations\n",
    "``` Python\n",
    "x = np.array([1,2,3])\n",
    "y = np.array([4,5,6])\n",
    "\n",
    "x + y       # [5 7 9]\n",
    "x - y       # [-3 -3 -3]\n",
    "x * y       # [4 10 18] element-wise\n",
    "x / y       # [0.25 0.4 0.5] element-wise\n",
    "x ** 2      # [1 4 9]\n",
    "\n",
    "np.sin(x)   # [sin(1), sin(2), sin(3)]\n",
    "np.exp(x)   # [e^1, e^2, e^3]"
   ]
  },
  {
   "cell_type": "markdown",
   "id": "86c4d53c",
   "metadata": {},
   "source": [
    "6️⃣ Aggregations\n",
    "``` Python\n",
    "arr = np.array([[1,2,3],[4,5,6]])\n",
    "arr.sum()           # 21\n",
    "arr.sum(axis=0)     # sum of columns → [5 7 9]\n",
    "arr.sum(axis=1)     # sum of rows → [6 15]\n",
    "\n",
    "arr.mean()\n",
    "arr.std()\n",
    "arr.min()\n",
    "arr.max()\n",
    "arr.argmax()        # index of max in flattened array\n",
    "arr.argmin()        # index of min"
   ]
  },
  {
   "cell_type": "markdown",
   "id": "d248a4f4",
   "metadata": {},
   "source": [
    "7️⃣ Reshaping & Flattening\n",
    "``` Python\n",
    "arr = np.arange(6)          # [0 1 2 3 4 5]\n",
    "arr.reshape(2,3)            # [[0 1 2],[3 4 5]]\n",
    "arr.flatten()               # [0 1 2 3 4 5]\n",
    "arr.T                       # transpose (for 2D arrays)"
   ]
  },
  {
   "cell_type": "markdown",
   "id": "9eeafcaf",
   "metadata": {},
   "source": [
    "8️⃣ Random Numbers\n",
    "``` Python\n",
    "np.random.seed(0)           # reproducible\n",
    "np.random.rand(3)           # 3 numbers in [0,1)\n",
    "np.random.randn(3)          # 3 samples from standard normal\n",
    "np.random.randint(0,10,5)   # 5 integers 0-9"
   ]
  },
  {
   "cell_type": "markdown",
   "id": "7decbb90",
   "metadata": {},
   "source": [
    "9️⃣ Boolean Indexing\n",
    "``` Python\n",
    "arr = np.array([1,2,3,4,5])\n",
    "arr[arr > 3]       # [4 5]\n",
    "\n",
    "b = np.array([[1,2],[3,4]])\n",
    "b[b % 2 == 0]      # [2 4] even numbers"
   ]
  },
  {
   "cell_type": "markdown",
   "id": "a551cc57",
   "metadata": {},
   "source": []
  },
  {
   "cell_type": "markdown",
   "id": "c2bb7d89",
   "metadata": {},
   "source": []
  }
 ],
 "metadata": {
  "kernelspec": {
   "display_name": ".venv",
   "language": "python",
   "name": "python3"
  },
  "language_info": {
   "codemirror_mode": {
    "name": "ipython",
    "version": 3
   },
   "file_extension": ".py",
   "mimetype": "text/x-python",
   "name": "python",
   "nbconvert_exporter": "python",
   "pygments_lexer": "ipython3",
   "version": "3.10.5"
  }
 },
 "nbformat": 4,
 "nbformat_minor": 5
}
