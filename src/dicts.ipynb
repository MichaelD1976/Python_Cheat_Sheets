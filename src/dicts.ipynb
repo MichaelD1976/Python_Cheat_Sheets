{
 "cells": [
  {
   "cell_type": "markdown",
   "id": "20f49158",
   "metadata": {},
   "source": [
    "# Dictionaries"
   ]
  },
  {
   "cell_type": "markdown",
   "id": "ade586b0",
   "metadata": {},
   "source": [
    "#### 1. Create a dictionary"
   ]
  },
  {
   "cell_type": "markdown",
   "id": "1fb54ee2",
   "metadata": {},
   "source": [
    "```python\n",
    "d = {\"a\": 1, \"b\": 2, \"c\": 3}\n",
    "d = dict(a=1, b=2, c=3)"
   ]
  },
  {
   "cell_type": "code",
   "execution_count": 6,
   "id": "08e8393e",
   "metadata": {},
   "outputs": [
    {
     "data": {
      "text/plain": [
       "{'a': 1, 'b': 2, 'c': 3}"
      ]
     },
     "execution_count": 6,
     "metadata": {},
     "output_type": "execute_result"
    }
   ],
   "source": [
    "\n",
    "d = {\"a\": 1, \"b\": 2, \"c\": 3}\n",
    "d\n"
   ]
  },
  {
   "cell_type": "markdown",
   "id": "0123b8c0",
   "metadata": {},
   "source": [
    "#### 2. Access Values"
   ]
  },
  {
   "cell_type": "markdown",
   "id": "1709cabd",
   "metadata": {},
   "source": [
    "```Python\n",
    "val = d[\"a\"]        # Access value by key\n",
    "val = d.get(\"a\")    # Safe access, returns None if key missing\n"
   ]
  },
  {
   "cell_type": "code",
   "execution_count": 7,
   "id": "9d6f8ddf",
   "metadata": {},
   "outputs": [
    {
     "name": "stdout",
     "output_type": "stream",
     "text": [
      "3\n"
     ]
    }
   ],
   "source": [
    "value = d['c']\n",
    "print(value)"
   ]
  },
  {
   "cell_type": "code",
   "execution_count": 8,
   "id": "1a91bb3b",
   "metadata": {},
   "outputs": [
    {
     "name": "stdout",
     "output_type": "stream",
     "text": [
      "b\n"
     ]
    }
   ],
   "source": [
    "# Reverse lookup: Find key by value\n",
    "\n",
    "# d = {\"a\": 1, \"b\": 2, \"c\": 3}\n",
    "\n",
    "# 1. Can use list comprehension:\n",
    "# keys = [k for k, v in d.items() if v == 2]\n",
    "\n",
    "# 1. or a loop:\n",
    "\n",
    "# Find key for value 2\n",
    "key = None\n",
    "for k, v in d.items():\n",
    "    if v == 2:\n",
    "        key = k\n",
    "        break\n",
    "\n",
    "print(key)  # Output: 'b'"
   ]
  },
  {
   "cell_type": "markdown",
   "id": "11c49c54",
   "metadata": {},
   "source": []
  },
  {
   "cell_type": "markdown",
   "id": "1e73d637",
   "metadata": {},
   "source": [
    "#### 3. Add or update items"
   ]
  },
  {
   "cell_type": "markdown",
   "id": "6e6e880e",
   "metadata": {},
   "source": [
    "``` Python\n",
    "d[\"d\"] = 4          # Add new key-value\n",
    "d[\"a\"] = 10         # Update existing key"
   ]
  },
  {
   "cell_type": "markdown",
   "id": "bbcec7d1",
   "metadata": {},
   "source": []
  },
  {
   "cell_type": "markdown",
   "id": "458c6e44",
   "metadata": {},
   "source": [
    "#### 4. Remove items"
   ]
  },
  {
   "cell_type": "markdown",
   "id": "937929cd",
   "metadata": {},
   "source": [
    "```Python\n",
    "d.pop(\"b\")          # Remove key 'b' and return value\n",
    "d.popitem()         # Remove last inserted key-value\n",
    "del d[\"c\"]          # Delete key 'c'\n",
    "d.clear()           # Remove all items"
   ]
  },
  {
   "cell_type": "code",
   "execution_count": null,
   "id": "d018ffd5",
   "metadata": {},
   "outputs": [],
   "source": []
  },
  {
   "cell_type": "markdown",
   "id": "dea573bf",
   "metadata": {},
   "source": [
    "#### 5. Dictionary keys, values, items"
   ]
  },
  {
   "cell_type": "markdown",
   "id": "59aaecdb",
   "metadata": {},
   "source": [
    "```Python\n",
    "keys = d.keys()     # Returns dict_keys(['a', 'b', ...])\n",
    "values = d.values() # Returns dict_values([1, 2, ...])\n",
    "items = d.items()   # Returns dict_items([('a', 1), ('b', 2)])"
   ]
  },
  {
   "cell_type": "markdown",
   "id": "3206ec07",
   "metadata": {},
   "source": [
    "#### 6. Check membership"
   ]
  },
  {
   "cell_type": "markdown",
   "id": "2b454de7",
   "metadata": {},
   "source": [
    "```Python\n",
    "\"a\" in d           # True if key exists\n",
    "5 in d.values()    # True if value exists"
   ]
  },
  {
   "cell_type": "markdown",
   "id": "73d5d25b",
   "metadata": {},
   "source": [
    "#### 7. Iteration"
   ]
  },
  {
   "cell_type": "markdown",
   "id": "a264774c",
   "metadata": {},
   "source": [
    "```Python\n",
    "for key in d:\n",
    "    print(key, d[key])\n",
    "\n",
    "for key, value in d.items():\n",
    "    print(key, value)"
   ]
  },
  {
   "cell_type": "markdown",
   "id": "8514b802",
   "metadata": {},
   "source": [
    "#### 9. Merge dictionaries"
   ]
  },
  {
   "cell_type": "markdown",
   "id": "c5cffc9b",
   "metadata": {},
   "source": [
    "```Python\n",
    "d1 = {\"a\":1, \"b\":2}\n",
    "d2 = {\"b\":3, \"c\":4}\n",
    "d1.update(d2)             # d1 becomes {'a':1,'b':3,'c':4}"
   ]
  },
  {
   "cell_type": "markdown",
   "id": "b0249958",
   "metadata": {},
   "source": [
    "#### 10. Default values"
   ]
  },
  {
   "cell_type": "markdown",
   "id": "a7fa1e37",
   "metadata": {},
   "source": [
    "```Python\n",
    "d.setdefault(\"e\", 5)      # Add 'e':5 only if 'e' not present"
   ]
  },
  {
   "cell_type": "markdown",
   "id": "e114fb11",
   "metadata": {},
   "source": []
  }
 ],
 "metadata": {
  "kernelspec": {
   "display_name": ".venv",
   "language": "python",
   "name": "python3"
  },
  "language_info": {
   "codemirror_mode": {
    "name": "ipython",
    "version": 3
   },
   "file_extension": ".py",
   "mimetype": "text/x-python",
   "name": "python",
   "nbconvert_exporter": "python",
   "pygments_lexer": "ipython3",
   "version": "3.10.5"
  }
 },
 "nbformat": 4,
 "nbformat_minor": 5
}
