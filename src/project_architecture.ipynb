{
 "cells": [
  {
   "cell_type": "markdown",
   "id": "90649fd8",
   "metadata": {},
   "source": [
    "## 🏗️ Python Project Architecture & Setup Cheat Sheet"
   ]
  },
  {
   "cell_type": "markdown",
   "id": "944fc25e",
   "metadata": {},
   "source": []
  },
  {
   "cell_type": "markdown",
   "id": "6892f6ff",
   "metadata": {},
   "source": [
    "1️⃣ Typical Project Structure\n",
    "```Python\n",
    "my_project/\n",
    "│\n",
    "├── src/ # Source code\n",
    "│ ├── init.py\n",
    "│ ├── main.py\n",
    "│ └── module.py\n",
    "│\n",
    "├── tests/ # Unit tests\n",
    "│ └── test_module.py\n",
    "│\n",
    "├── data/ # Datasets (optional)\n",
    "│\n",
    "├── notebooks/ # Jupyter notebooks\n",
    "│\n",
    "├── requirements.txt # Python dependencies\n",
    "├── setup.py # Optional: package installation info\n",
    "├── README.md # Project overview\n",
    "├── .gitignore # Files to ignore in git\n",
    "└── Dockerfile # Optional: containerization"
   ]
  },
  {
   "cell_type": "markdown",
   "id": "5f865506",
   "metadata": {},
   "source": [
    "2️⃣ Setting up a Python Project\n",
    "```Python\n",
    "\n",
    "### Create virtual environment\n",
    "```bash\n",
    "python -m venv .venv         # create env\n",
    "source .venv/bin/activate    # Linux/Mac\n",
    ".venv\\Scripts\\activate       # Windows\n",
    "Install dependencies\n",
    "bash\n",
    "Copy code\n",
    "pip install -r requirements.txt\n",
    "pip freeze > requirements.txt   # update dependencies\n",
    "Run Python scripts\n",
    "bash\n",
    "Copy code\n",
    "python src/main.py"
   ]
  },
  {
   "cell_type": "markdown",
   "id": "8a06abf8",
   "metadata": {},
   "source": [
    "3️⃣ Git Commands\n",
    "```Python\n",
    "Initialize repository\n",
    "git init\n",
    "git status\n",
    "\n",
    "Add and commit files\n",
    "git add .\n",
    "git commit -m \"Initial commit\"\n",
    "\n",
    "Branching\n",
    "git checkout -b feature-branch\n",
    "git merge main\n",
    "\n",
    "Remote repository\n",
    "git remote add origin <repo_url>\n",
    "git push -u origin main"
   ]
  },
  {
   "cell_type": "markdown",
   "id": "b1ac2176",
   "metadata": {},
   "source": [
    "4️⃣ Docker & Containers\n",
    "```Python\n",
    "Basic Dockerfile\n",
    "# Use official Python image\n",
    "FROM python:3.10-slim\n",
    "\n",
    "# Set working directory\n",
    "WORKDIR /app\n",
    "\n",
    "# Copy files\n",
    "COPY . /app\n",
    "\n",
    "# Install dependencies\n",
    "RUN pip install --no-cache-dir -r requirements.txt\n",
    "\n",
    "# Default command\n",
    "CMD [\"python\", \"src/main.py\"]\n",
    "\n",
    "Build and run container\n",
    "docker build -t my_project .\n",
    "docker run -it --rm my_project"
   ]
  },
  {
   "cell_type": "markdown",
   "id": "e106dd76",
   "metadata": {},
   "source": [
    "5️⃣ Common Required Files\n",
    "```Python\n",
    "File\tPurpose\n",
    "README.md\tProject overview, instructions\n",
    "requirements.txt\tList of Python packages\n",
    "setup.py\tOptional: for packaging your project\n",
    ".gitignore\tExclude unwanted files from Git\n",
    "Dockerfile\tOptional: container configuration\n",
    "tests/\tUnit tests for your code\n",
    "src/\tYour source code"
   ]
  },
  {
   "cell_type": "markdown",
   "id": "0618cff2",
   "metadata": {},
   "source": [
    "6️⃣ Recommended Project Setup Steps\n",
    "```Python\n",
    "\n",
    "1. Create project folder\n",
    "\n",
    "2. Create virtual environment\n",
    "\n",
    "3. Set up src/ and tests/ folders\n",
    "\n",
    "4. Create requirements.txt\n",
    "\n",
    "5. Write README.md\n",
    "\n",
    "6. Initialize Git repo\n",
    "\n",
    "7. Create .gitignore\n",
    "\n",
    "8. Add Dockerfile (optional)\n",
    "\n",
    "9. Start coding & writing tests\n",
    "\n",
    "10. Commit & push changes regularly"
   ]
  },
  {
   "cell_type": "markdown",
   "id": "0e853379",
   "metadata": {},
   "source": [
    "💡 Tips:\n",
    "\n",
    "- Keep src/ and tests/ separate.\n",
    "\n",
    "- Use requirements.txt or pyproject.toml for reproducibility.\n",
    "\n",
    "- .venv should be in .gitignore.\n",
    "\n",
    "- Docker ensures consistent environments across machines.\n",
    "\n",
    "- Commit often with meaningful messages."
   ]
  },
  {
   "cell_type": "markdown",
   "id": "911239d2",
   "metadata": {},
   "source": []
  },
  {
   "cell_type": "markdown",
   "id": "a2a0f30c",
   "metadata": {},
   "source": []
  }
 ],
 "metadata": {
  "language_info": {
   "name": "python"
  }
 },
 "nbformat": 4,
 "nbformat_minor": 5
}
