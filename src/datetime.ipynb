{
 "cells": [
  {
   "cell_type": "markdown",
   "id": "cba1a60e",
   "metadata": {},
   "source": [
    "## 📅 Python Datetime Cheat Sheet"
   ]
  },
  {
   "cell_type": "markdown",
   "id": "ccbdeab7",
   "metadata": {},
   "source": []
  },
  {
   "cell_type": "markdown",
   "id": "9ee4debd",
   "metadata": {},
   "source": [
    "1️⃣ Importing\n",
    "```python\n",
    "from datetime import datetime, date, time, timedelta\n",
    "import pandas as pd"
   ]
  },
  {
   "cell_type": "markdown",
   "id": "6fb20b57",
   "metadata": {},
   "source": []
  },
  {
   "cell_type": "markdown",
   "id": "ab2a5224",
   "metadata": {},
   "source": [
    "2️⃣ Current Date and Time\n",
    "```Python\n",
    "now = datetime.now()        # current date & time\n",
    "today = date.today()        # current date\n",
    "print(now)\n",
    "print(today)"
   ]
  },
  {
   "cell_type": "markdown",
   "id": "56b37a8f",
   "metadata": {},
   "source": [
    "3️⃣ Creating Datetime Objects\n",
    "```Python\n",
    "dt = datetime(2025, 9, 30, 14, 30, 0)  # YYYY,MM,DD,HH,MM,SS\n",
    "d = date(2025, 9, 30)\n",
    "t = time(14, 30, 0)\n",
    "print(dt, d, t)"
   ]
  },
  {
   "cell_type": "markdown",
   "id": "898e38e5",
   "metadata": {},
   "source": [
    "4️⃣ Formatting Datetime as String\n",
    "```Python\n",
    "now = datetime.now()\n",
    "formatted = now.strftime(\"%Y-%m-%d %H:%M:%S\")\n",
    "print(formatted)\n",
    "\n",
    "# Common directives:\n",
    "# %Y = year, %m = month, %d = day\n",
    "# %H = hour, %M = minute, %S = second"
   ]
  },
  {
   "cell_type": "markdown",
   "id": "c319d523",
   "metadata": {},
   "source": [
    "5️⃣ Parsing Strings into Datetime\n",
    "```Python\n",
    "dt_str = \"2025-09-30 14:30:00\"\n",
    "dt_obj = datetime.strptime(dt_str, \"%Y-%m-%d %H:%M:%S\")\n",
    "print(dt_obj)"
   ]
  },
  {
   "cell_type": "markdown",
   "id": "c6a848da",
   "metadata": {},
   "source": [
    "6️⃣ Datetime Arithmetic\n",
    "```Python\n",
    "now = datetime.now()\n",
    "delta = timedelta(days=5, hours=3)\n",
    "\n",
    "future = now + delta       # add time\n",
    "past = now - delta         # subtract time\n",
    "print(future, past)"
   ]
  },
  {
   "cell_type": "markdown",
   "id": "bf0a1c80",
   "metadata": {},
   "source": [
    "7️⃣ Accessing Components\n",
    "```Python\n",
    "now = datetime.now()\n",
    "print(now.year, now.month, now.day)\n",
    "print(now.hour, now.minute, now.second)"
   ]
  },
  {
   "cell_type": "markdown",
   "id": "2bcef5fe",
   "metadata": {},
   "source": [
    "8️⃣ Differences Between Dates\n",
    "```Python\n",
    "d1 = date(2025, 9, 30)\n",
    "d2 = date(2025, 10, 5)\n",
    "\n",
    "diff = d2 - d1\n",
    "print(diff.days)          # "
   ]
  },
  {
   "cell_type": "markdown",
   "id": "1fce23d2",
   "metadata": {},
   "source": [
    "9️⃣ Pandas Datetime Operations\n",
    "```Python\n",
    "# Convert string to datetime\n",
    "df = pd.DataFrame({'date_str': ['2025-09-30', '2025-10-01']})\n",
    "df['date'] = pd.to_datetime(df['date_str'])\n",
    "\n",
    "# Extract components\n",
    "df['year'] = df['date'].dt.year\n",
    "df['month'] = df['date'].dt.month\n",
    "df['day'] = df['date'].dt.day\n",
    "df['weekday'] = df['date'].dt.weekday       # Monday=0, Sunday=6\n",
    "\n",
    "# Date arithmetic\n",
    "df['next_week'] = df['date'] + pd.Timedelta(days=7)"
   ]
  },
  {
   "cell_type": "markdown",
   "id": "2ec54f66",
   "metadata": {},
   "source": []
  }
 ],
 "metadata": {
  "language_info": {
   "name": "python"
  }
 },
 "nbformat": 4,
 "nbformat_minor": 5
}
