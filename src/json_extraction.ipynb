{
 "cells": [
  {
   "cell_type": "markdown",
   "id": "03f93848",
   "metadata": {},
   "source": [
    "## 🌐 JSON Extraction from API Responses"
   ]
  },
  {
   "cell_type": "markdown",
   "id": "9eb62f8e",
   "metadata": {},
   "source": []
  },
  {
   "cell_type": "markdown",
   "id": "73fb2b6f",
   "metadata": {},
   "source": [
    "1️⃣ Making a simple API request\n",
    "```python\n",
    "import requests\n",
    "\n",
    "url = \"https://jsonplaceholder.typicode.com/users\"\n",
    "response = requests.get(url)\n",
    "\n",
    "# Check status code\n",
    "print(response.status_code)  # 200 = OK\n",
    "\n",
    "# Parse JSON content\n",
    "data = response.json()       # Converts JSON into Python dict/list"
   ]
  },
  {
   "cell_type": "markdown",
   "id": "89dd8291",
   "metadata": {},
   "source": [
    "2️⃣ Inspect the JSON structure\n",
    "```Python\n",
    "# data is usually a list of dicts\n",
    "print(type(data))  # <class 'list'>\n",
    "print(data[0])     # First element (dict)\n",
    "\n",
    "\n",
    "Example first element:\n",
    "\n",
    "{\n",
    "    \"id\": 1,\n",
    "    \"name\": \"Leanne Graham\",\n",
    "    \"username\": \"Bret\",\n",
    "    \"email\": \"Sincere@april.biz\",\n",
    "    \"address\": {\n",
    "        \"street\": \"Kulas Light\",\n",
    "        \"suite\": \"Apt. 556\",\n",
    "        \"city\": \"Gwenborough\",\n",
    "        \"zipcode\": \"92998-3874\"\n",
    "    }\n",
    "}"
   ]
  },
  {
   "cell_type": "markdown",
   "id": "1c34f473",
   "metadata": {},
   "source": [
    "3️⃣ Accessing top-level keys\n",
    "```Python\n",
    "first_user = data[0]\n",
    "print(first_user['name'])     # \"Leanne Graham\"\n",
    "print(first_user['email'])    # \"Sincere@april.biz\""
   ]
  },
  {
   "cell_type": "markdown",
   "id": "244ab1ca",
   "metadata": {},
   "source": [
    "4️⃣ Accessing nested keys\n",
    "```Python\n",
    "address = first_user['address']\n",
    "print(address['city'])        # \"Gwenborough\"\n",
    "print(address['zipcode'])     # \"92998-3874\""
   ]
  },
  {
   "cell_type": "markdown",
   "id": "4f6a31ed",
   "metadata": {},
   "source": [
    "5️⃣ Looping through list of users\n",
    "```Python\n",
    "for user in data:\n",
    "    print(user['name'], \"-\", user['email'])"
   ]
  },
  {
   "cell_type": "markdown",
   "id": "6d58eee1",
   "metadata": {},
   "source": [
    "6️⃣ Extracting specific fields into a list\n",
    "```Python\n",
    "names = [user['name'] for user in data]\n",
    "emails = [user['email'] for user in data]\n",
    "print(names)\n",
    "print(emails)"
   ]
  },
  {
   "cell_type": "markdown",
   "id": "87967728",
   "metadata": {},
   "source": [
    "7️⃣ Working with deeply nested JSON\n",
    "```Python\n",
    "\n",
    "# Example: extract city for all users\n",
    "cities = [user['address']['city'] for user in data]\n",
    "print(cities)"
   ]
  },
  {
   "cell_type": "markdown",
   "id": "140cd7db",
   "metadata": {},
   "source": [
    "8️⃣ Convert JSON to pandas DataFrame\n",
    "```Python\n",
    "import pandas as pd\n",
    "\n",
    "df = pd.json_normalize(data)  # Flattens nested JSON\n",
    "print(df.head())\n",
    "\n",
    "\n",
    "For nested keys, you can specify path:\n",
    "\n",
    "df = pd.json_normalize(data, sep='_')\n",
    "# Nested address fields become: address_street, address_suite, etc."
   ]
  },
  {
   "cell_type": "markdown",
   "id": "a814db8e",
   "metadata": {},
   "source": [
    "💡 Tips:\n",
    "\n",
    "- Use .json() on requests response to parse JSON automatically.\n",
    "\n",
    "- Always inspect the JSON structure (print(data) or type(data[0])) before extraction.\n",
    "\n",
    "- pd.json_normalize is very handy for converting nested JSON into a flat DataFrame for analysis."
   ]
  },
  {
   "cell_type": "markdown",
   "id": "a3f11ab7",
   "metadata": {},
   "source": []
  },
  {
   "cell_type": "markdown",
   "id": "ee489c51",
   "metadata": {},
   "source": []
  }
 ],
 "metadata": {
  "language_info": {
   "name": "python"
  }
 },
 "nbformat": 4,
 "nbformat_minor": 5
}
