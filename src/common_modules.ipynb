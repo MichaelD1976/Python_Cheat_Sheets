{
 "cells": [
  {
   "cell_type": "markdown",
   "id": "f9e470b8",
   "metadata": {},
   "source": [
    "## 📦 Common Python Modules Cheat Sheet"
   ]
  },
  {
   "cell_type": "markdown",
   "id": "ffd7ac0a",
   "metadata": {},
   "source": []
  },
  {
   "cell_type": "markdown",
   "id": "53ba9368",
   "metadata": {},
   "source": [
    "\n",
    "1️⃣ math – Mathematical functions\n",
    "```python\n",
    "import math\n",
    "\n",
    "math.sqrt(16)       # 4.0\n",
    "math.ceil(3.2)      # 4\n",
    "math.floor(3.8)     # 3\n",
    "math.factorial(5)   # 120\n",
    "math.log(10)        # natural log\n",
    "math.log10(100)     # base 10 log\n",
    "math.pi             # 3.141592653589793"
   ]
  },
  {
   "cell_type": "markdown",
   "id": "0822be67",
   "metadata": {},
   "source": []
  },
  {
   "cell_type": "markdown",
   "id": "9fb6a592",
   "metadata": {},
   "source": [
    "2️⃣ random – Random numbers\n",
    "```Python\n",
    "import random\n",
    "\n",
    "random.random()          # float in [0.0, 1.0)\n",
    "random.randint(1, 10)    # integer in [1,10]\n",
    "random.choice([1,2,3])   # random element\n",
    "random.shuffle([1,2,3])  # shuffle list in-place\n",
    "random.sample(range(10), 3) # 3 unique random elements"
   ]
  },
  {
   "cell_type": "markdown",
   "id": "3bec1239",
   "metadata": {},
   "source": [
    "3️⃣ datetime – Date and time\n",
    "```Python\n",
    "from datetime import datetime, date, timedelta\n",
    "\n",
    "datetime.now()                # current date and time\n",
    "date.today()                  # current date\n",
    "dt = datetime(2025, 9, 30, 14, 30)\n",
    "delta = timedelta(days=5)\n",
    "dt + delta                     # add 5 days"
   ]
  },
  {
   "cell_type": "markdown",
   "id": "99a81a6c",
   "metadata": {},
   "source": [
    "4️⃣ os – Operating system / file operations\n",
    "```Python\n",
    "import os\n",
    "\n",
    "os.getcwd()                  # current working directory\n",
    "os.listdir('.')               # list files in current directory\n",
    "os.mkdir('new_folder')        # create folder\n",
    "os.remove('file.txt')         # delete file\n",
    "os.path.exists('file.txt')    # check if file exists"
   ]
  },
  {
   "cell_type": "markdown",
   "id": "c8910a88",
   "metadata": {},
   "source": [
    "5️⃣ sys – System-specific parameters\n",
    "```Python\n",
    "import sys\n",
    "\n",
    "sys.version           # Python version\n",
    "sys.path              # list of module search paths\n",
    "sys.exit(0)           # exit script"
   ]
  },
  {
   "cell_type": "markdown",
   "id": "ec2203f0",
   "metadata": {},
   "source": [
    "6️⃣ itertools – Iterators & combinatorics\n",
    "```Python\n",
    "import itertools\n",
    "\n",
    "list(itertools.product([1,2], ['a','b']))   # Cartesian product\n",
    "list(itertools.permutations([1,2,3], 2))   # permutations of length 2\n",
    "list(itertools.combinations([1,2,3], 2))   # combinations of length 2"
   ]
  },
  {
   "cell_type": "markdown",
   "id": "66f35d12",
   "metadata": {},
   "source": [
    "7️⃣ functools – Functional tools\n",
    "```Python\n",
    "from functools import reduce, lru_cache\n",
    "\n",
    "reduce(lambda x, y: x+y, [1,2,3,4])  # sum via reduce → 10\n",
    "\n",
    "@lru_cache(maxsize=None)             # memoization decorator\n",
    "def fib(n):\n",
    "    if n < 2:\n",
    "        return n\n",
    "    return fib(n-1) + fib(n-2)"
   ]
  },
  {
   "cell_type": "markdown",
   "id": "92f0090f",
   "metadata": {},
   "source": [
    "8️⃣ json – JSON serialization\n",
    "```Python\n",
    "import json\n",
    "\n",
    "data = {\"name\":\"Alice\", \"age\":25}\n",
    "json_str = json.dumps(data)          # dict → JSON string\n",
    "data_loaded = json.loads(json_str)   # JSON string → dict\n",
    "\n",
    "with open(\"data.json\", \"w\") as f:\n",
    "    json.dump(data, f)\n",
    "\n",
    "with open(\"data.json\", \"r\") as f:\n",
    "    loaded = json.load(f)"
   ]
  },
  {
   "cell_type": "markdown",
   "id": "2e8425e1",
   "metadata": {},
   "source": [
    "9️⃣ re – Regular expressions\n",
    "```Python\n",
    "import re\n",
    "\n",
    "text = \"My number is 123-456-7890\"\n",
    "re.findall(r'\\d{3}-\\d{3}-\\d{4}', text)  # ['123-456-7890']\n",
    "re.sub(r'\\d', 'X', text)                # Replace digits → 'My number is XXX-XXX-XXXX'"
   ]
  },
  {
   "cell_type": "markdown",
   "id": "892127fd",
   "metadata": {},
   "source": [
    "🔟 pandas & numpy (data analysis essentials)\n",
    "```Python\n",
    "import pandas as pd\n",
    "import numpy as np\n",
    "\n",
    "# pandas\n",
    "df = pd.DataFrame({'A':[1,2,3]})\n",
    "df.mean()          # 2.0\n",
    "\n",
    "# numpy\n",
    "arr = np.array([1,2,3])\n",
    "np.mean(arr)       # 2.0\n",
    "np.std(arr)        # standard deviation\n",
    "np.arange(0,10,2)  # [0 2 4 6 8]"
   ]
  },
  {
   "cell_type": "markdown",
   "id": "10409bf8",
   "metadata": {},
   "source": []
  },
  {
   "cell_type": "markdown",
   "id": "bcbdc098",
   "metadata": {},
   "source": []
  }
 ],
 "metadata": {
  "language_info": {
   "name": "python"
  }
 },
 "nbformat": 4,
 "nbformat_minor": 5
}
